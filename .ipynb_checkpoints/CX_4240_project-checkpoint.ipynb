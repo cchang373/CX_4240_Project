{
 "cells": [
  {
   "cell_type": "markdown",
   "metadata": {},
   "source": [
    "# Changing the Game: Clustering Basketball Statistics and Predicting Position"
   ]
  },
  {
   "cell_type": "markdown",
   "metadata": {},
   "source": [
    "## Introduction\n",
    "\n",
    "Based on revenue, the National Basketball Association (NBA) ranks the second among the four major professional sports leagues in the United States. The game of NBA basketball has evolved dramatically over the years, from the era of centers led by Shaquille O’neal, to nowadays Steph Curry’s 3-point shooting games. A significant contribution to this change has been the introduction of data analytics to the game itself [1]. \n",
    "\n",
    "Players have 5 regular positions in a basketball game, and they are center (C), power forward (PF), small forward (SF), point guard(PG) and shooting guard(SG). Typically, the position of the palyers on court is defined by the size of the player and the their style of game. For example, a center (C) is usually tallest and heaviest player on the court, focusing on rebounds, protecting the rim. On offensive end, they usually try to get as close to rim as possible and finish in the paint. On the other hand, point guards (PG) are expected to run the team's offense by controlling the ball and making sure that it gets to the right player at the right time. The difference in styles of play of players at different positions can be extraced by analyzing the statics in details. The above examples shows that statiscally centers will grab more rebounds, and point guards will have more assists.  \n",
    "\n",
    "In this project, we propose to study the transition of the role of players at different positions on the court over the 20 years. Through the supervised classification, we extraced the statisitics that contributes most to differentiating the player's position and we will analyze specific players that cannot be categorized correctly. For unsupervised classification, we would like to see without pre-defining the player's position, how would the algorithm see players style of play. "
   ]
  },
  {
   "cell_type": "markdown",
   "metadata": {},
   "source": [
    "## Method\n",
    "\n",
    "### Data\n",
    "- Training set: 1997 and 2017 basketball player data set\n",
    "- Prediction set: 1996 and 2016 basketball player data set\n",
    "- Features: \\~20 features of each basketball players including age, position,..."
   ]
  },
  {
   "cell_type": "markdown",
   "metadata": {},
   "source": [
    "### Unsupervised cluster\n",
    "- PCA\n",
    "- KMeans\n",
    "\n",
    "### Supervised classification \n",
    "- Linear Discriminant Analysis (LDA)\n",
    "- Logistic regression classifier\n",
    "- Random forest classifier\n",
    "- 10-fold cross validation (get the number of features with high accuracy)\n",
    "- Confusion matrix\n",
    "- Accuracy\n",
    "- Scikit-learn"
   ]
  },
  {
   "cell_type": "markdown",
   "metadata": {},
   "source": [
    "## Result\n",
    "\n",
    "### Unsupervised cluster\n",
    "#### Cluster for 2017\n",
    "<img src=\"./cluster_17.png\">\n",
    "\n",
    "#### Cluster for 1997\n",
    "<img src=\"./cluster_97.png\">\n",
    "\n",
    "### LDA\n",
    "#### Number of features \n",
    "<table><tr>\n",
    "<td> <img src=\"./LDA_test_17.png\"  style=\"width: 400px;\"/> </td>\n",
    "<td> <img src=\"./LDA_test_97.png\"  style=\"width: 400px;\"/> </td>\n",
    "</tr></table>\n",
    "\n",
    "#### Confusion matrix and accuracy\n",
    "\n",
    "| Position (2016)| SG | PG | SF | C  | PF | Accuracy |                   \n",
    "|----|----|----|----|----|----|-----------------------|   \n",
    "| SG | 66 | 11 | 18 | 0  | (Pat Connaughton, Elijah Millsap) 2  | 0.634 |\n",
    "| PG | 15 | 79 | (Giannis Antetokounmpo) 1   | 0  | 0  |                            \n",
    "| SF | 27 | 3  | 47 | 0  | 15 |                            \n",
    "| C  | (Nikola Pekovic) 1  | 0  | (Matt Bonner) 1   | 64 | 25 |                            \n",
    "| PF | 5  | (Blake Griffin, Josh McRoberts) 2  | 16 | 33 | 47 |  \n",
    "\n",
    "\n",
    "| Position (1996)| SG | PG | SF | C  | PF | Accuracy |\n",
    "|----|----|----|----|----|----|-----------------------|\n",
    "| SG | 61 | 7  | 6  | 0  | (Donnie Boyce) 1  | 0.593 |\n",
    "| PG | 16 | 72 | (Corey Beck, Reggie Jordan) 2  | 0  | 0  |\n",
    "| SF | 23 | 3  | 33 | (Armen Gilliam) 1 | 23 |\n",
    "| C  | (Leron Ellis) 1  | 0  | 8  | 38 | 37 |\n",
    "| PF | 3  | (Brad Lohaus, Chris Webber) 2  | 14 | 28 | 51 |\n",
    "\n",
    "\n",
    "### Logistic regression classifier\n",
    "#### Number of features\n",
    "<table><tr>\n",
    "<td> <img src=\"./Logistic_test_17.png\"  style=\"width: 400px;\"/> </td>\n",
    "<td> <img src=\"./Logistic_test_97.png\"  style=\"width: 400px;\"/> </td>\n",
    "</tr></table>\n",
    "\n",
    "#### Confusion matrix and accuracy\n",
    "\n",
    "| Position (2016)| SG | PG | SF | C  | PF | Accuracy |                   \n",
    "|:----:|:----:|:----:|:----:|:----:|:----:|:-----------------------:|      \n",
    "| SG | 66 | 14 | 13 | 0  | 4  | 0.638 |\n",
    "| PG | 15 | 79 | 0  | 0  | (Giannis Antetokounmpo) 1  |                            \n",
    "| SF | 28 | (Nicolas Batum, Kobe Bryant) 2  | 47 | 0  | 15 |                            \n",
    "| C  | (Matt Bonner, Nikola Pekovic) 2  | 0  | (Jarnell Stokes) 1  | 64 | 24 |                            \n",
    "| PF | 7  | 0  | 14 | 33 | 49 |\n",
    "\n",
    "| Position (1996)| SG | PG | SF | C  | PF | Accuracy |\n",
    "|----|----|----|----|----|----|-----------------------|\n",
    "| SG | 56 | 8  | 10 | 0  | (Donnie Boyce) 1  | 0.628 |\n",
    "| PG | 12 | 76 | (Corey Beck, Reggie Jordan) 2  | 0  | 0  |\n",
    "| SF | 20 | (Chris Mullin) 1  | 33 | 0  | 29 |\n",
    "| C  | (Kevin Duckworth) 1  | 0  | 7  | 44 | 32 |\n",
    "| PF | 3  | (Magic Johnson) 1  | 13 | 20 | 61 |\n",
    "\n",
    "### Random forest classifier\n",
    "#### Number of features\n",
    "<table><tr>\n",
    "<td> <img src=\"./random_test_17.png\"  style=\"width: 425px;\"/> </td>\n",
    "<td> <img src=\"./random_test_97.png\"  style=\"width: 425px;\"/> </td>\n",
    "</tr></table>\n",
    "\n",
    "#### Confusion matrix and accuracy\n",
    "\n",
    "| Position (2016)| SG | PG | SF | C  | PF | Accuracy |                   \n",
    "|----|----|----|----|----|----|-----------------------|      \n",
    "| SG | 60 | 14 | 16 | (Pat Connaughton) 1  | 6  | 0.607 |\n",
    "| PG | 12 | 77 | (Langston Galloway, Marcus Smart) 2  | 0  | 4  |                            \n",
    "| SF | 24 | 3  | 36 | (Nicolas Batum, Duje Dukan) 2  | 27 |                            \n",
    "| C  | 0  | 0  | 5  | 64 | 22 |                            \n",
    "| PF | 5  | 0  | 13 | 32 | 53 |\n",
    "\n",
    "| Position (1996)| SG | PG | SF | C  | PF | Accuracy |\n",
    "|----|----|----|----|----|----|-----------------------|\n",
    "| SG | 45 | 10 | 19 | 0  | (Tracy Moore) 1  | 0.619 |\n",
    "| PG | 12 | 75 | (Reggie Jordan, Jason Kidd) 2  | 0  | (Corey Beck) 1  |\n",
    "| SF | 16 | 0  | 42 | 5  | 20 |\n",
    "| C  | 0  | 0  | 9  | 51 | 24 |\n",
    "| PF | 4  | 0  | 14 | 27 | 53 |"
   ]
  },
  {
   "cell_type": "markdown",
   "metadata": {},
   "source": [
    "## Discussion"
   ]
  },
  {
   "cell_type": "markdown",
   "metadata": {},
   "source": [
    "### Supervised classification\n",
    "- We used two methods: logistic regression classifier and random forest classifier to perform the supervised classification. For both methods, the final accuracy of the prediction is around 0.6. By analyzing the confusion matrix for both matrix, we believe this is due to the intrinsic ambiguity in the definition of the players’ position. For instance, for year 2016 with logistic regression classifier, the results showed 20% of the PGs are classified as SG and vice versa; and around 40% of the PFs are classified as center (C) and 30% of centers are classified as power forward (PF). Players plays as SG and PG usually covers similar duties on the court and sometimes swap positions to adjust to the situation during the game. From the logistic regression classifier, we saw that almost 50% of the centers in 1997 were classified as PF, while the percentage was only 28% for year 2016. This implies the role of center and power became more differentiated after 20 years. \n",
    "\n",
    "- If we looked at the players that were misclassified from the confusion matrix, a few interesting names popped up. First one of course is Giannis Antetokounmpo, the ‘Greek Freak’, MVP of season 2018-2019. He was assigned to a point guard position while our algorithm classifies him as a SF/PF. Apparently, the program made the right assignment. He’s nearly 7 feet tall, with a combination of size, extraordinary wingspan, speed and ball-handling skills. All this athleticism, combined with his poor shooting ability, makes it obvious that his position should be either PF/SF. Actually, it is very bizarre that the league assigned him as a PG in the first few seasons of his career. The second big name showed up on the confusion matrix was Brake Griffin. Brake started his career as a PF in the Los Angeles Clippers. At the beginning of his career He was an exceptional athlete which results in numerous highlight dunks. Due to his injuries, which weakens his athleticism, and the changes in the team roster, he developed a lot of guard skills to his game including shooting, ball-handling, and assisting his teammates. Even though year 2016 was only the start of his switching, our program still spotted his change and classifies him as a point guard instead of the PF position. \n",
    "\n",
    "- Both algorithms uses 12 features to predict data from 2017 and 8 features for 1997. The features that contributes to the increase in the accuracy of the prediction are, rebound%, assist% and steal% and block%. These features are important indicators on how the players influences the game and are expected as the major features that contributes to improving the accuracy of the prediction. One additional feature that was counted in 2016 is the win share%. This a high-end statistic that quantifies the player’s contribution to the games the team won in a season. \n",
    "\n",
    "- In summary our supervised classification were able to classify the majority of players into their currently assigned position, at 60% accuracy. The mis-assignments were usually due to the intrinsic ambiguity in the definition of the position. While for a few players that was misassigned from the beginning, the program were able to spot them and assign them to their right position. "
   ]
  },
  {
   "cell_type": "markdown",
   "metadata": {},
   "source": [
    "### Unsupervised classification\n",
    "- For the unsupervised classification, we first applied LCA to reduce the dimension of our data and then used KMeans to cluster reduced data. We set the number of clusters to 5 and expect the program will cluster the players in a way similar to the SG/PG/SF/PF/C classification. The LCA reduced the dimension to 3 to a achieved a sum of variance above 0.99, and the first dimension accounts for over 0.9 of the sum of variance. However the classification did not agree with the current five position classification at all. For each cluster, there were almost equal number players from each position, and cluster #2 had most number of players. \n",
    "\n",
    "- We tried to increase the number of clusters to reduce error in the clustering. However, the result indicated that the error stopped increasing at a cluster number of around 100. Given that there’s only 400 players in the data set, it implies based on the current data, each player has a pretty unique style of play and cannot really be clustered in the same group. \n"
   ]
  },
  {
   "cell_type": "markdown",
   "metadata": {},
   "source": [
    "## Conclusion"
   ]
  },
  {
   "cell_type": "markdown",
   "metadata": {},
   "source": [
    "In summary, we proposed to study the transition of the role of players at different positions on the court over the 20 years using both supervised and supervised classification. Our supervised classification were able to classify the majority of players into their currently assigned position, at 60% accuracy. The mis-assignments were usually due to the intrinsic ambiguity in the definition of the position. While for a few players that was misassigned from the beginning, the program were able to spot them and assign them to their right position. For the unsupervised part, with 5 clusters, the program did not classify players as the traditional position classification does."
   ]
  },
  {
   "cell_type": "markdown",
   "metadata": {},
   "source": [
    "## Reference"
   ]
  },
  {
   "cell_type": "markdown",
   "metadata": {},
   "source": [
    "[1] Chang, Y.-H.; Maheswaran, R.; Su, J.; Kwok, S.; Levy, T.; Wexler, A.; Squire, K. In Quantifying shot quality in the NBA, 8th Annual MIT Sloan Sports Analytics Conference, 2014.\n",
    "\n",
    "[2] Wold, Svante, Kim Esbensen, and Paul Geladi. \"Principal component analysis.\" Chemometrics and intelligent laboratory systems 2.1-3 (1987): 37-52.\n",
    "\n",
    "[3] Lachenbruch, Peter A., and M. Goldstein. \"Discriminant analysis.\" Biometrics (1979): 69-85.\n"
   ]
  }
 ],
 "metadata": {
  "kernelspec": {
   "display_name": "Python 3",
   "language": "python",
   "name": "python3"
  },
  "language_info": {
   "codemirror_mode": {
    "name": "ipython",
    "version": 3
   },
   "file_extension": ".py",
   "mimetype": "text/x-python",
   "name": "python",
   "nbconvert_exporter": "python",
   "pygments_lexer": "ipython3",
   "version": "3.6.3"
  }
 },
 "nbformat": 4,
 "nbformat_minor": 2
}
